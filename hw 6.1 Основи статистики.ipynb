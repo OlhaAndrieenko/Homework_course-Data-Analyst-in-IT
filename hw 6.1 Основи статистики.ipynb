{
 "cells": [
  {
   "cell_type": "markdown",
   "metadata": {
    "id": "SDhaTqxcWhnP"
   },
   "source": [
    "В цьому домашньому завданні відпрацюємо з вами знання, отримані в модулі зі статистики.\n",
    "\n",
    "**Завдання 1.** Ми обговорили з Вами на лекції, що велика літера Сігма грецького алфавіту позначає в математиці суму. Знайдіть з використанням Python \n",
    "$\\Sigma x$, $\\Sigma x^2$, та $\\Sigma (x-1)^2$ для наступного набору даних:\n",
    "`1 3 4`\n",
    "Виведіть результат кожного обчислення на екран."
   ]
  },
  {
   "cell_type": "code",
   "execution_count": 1,
   "metadata": {},
   "outputs": [],
   "source": [
    "import numpy as np"
   ]
  },
  {
   "cell_type": "code",
   "execution_count": 2,
   "metadata": {
    "id": "B1mgx_IBT0e8"
   },
   "outputs": [],
   "source": [
    "x = [1, 2, 3]"
   ]
  },
  {
   "cell_type": "code",
   "execution_count": 3,
   "metadata": {},
   "outputs": [
    {
     "name": "stdout",
     "output_type": "stream",
     "text": [
      "Cума всіх елементів: 6\n"
     ]
    }
   ],
   "source": [
    "sum_x = np.sum(x)\n",
    "print ('Cума всіх елементів:', sum_x )"
   ]
  },
  {
   "cell_type": "code",
   "execution_count": 4,
   "metadata": {},
   "outputs": [
    {
     "name": "stdout",
     "output_type": "stream",
     "text": [
      "Cума квадратів всіх елементів: 14\n"
     ]
    }
   ],
   "source": [
    "x_array = np.array(x)\n",
    "squared_x = x_array**2\n",
    "sum_squared_x = np.sum(squared_x)\n",
    "print ('Cума квадратів всіх елементів:', sum_squared_x)"
   ]
  },
  {
   "cell_type": "code",
   "execution_count": 5,
   "metadata": {},
   "outputs": [
    {
     "name": "stdout",
     "output_type": "stream",
     "text": [
      "Cума (x-1)**2: 5\n"
     ]
    }
   ],
   "source": [
    "squared_x_1 = (x_array - 1) ** 2\n",
    "sum_squared_x_1 = np.sum(squared_x_1)\n",
    "print ('Cума (x-1)**2:', sum_squared_x_1)"
   ]
  },
  {
   "cell_type": "markdown",
   "metadata": {
    "id": "fa78aW5lhiia"
   },
   "source": [
    "**Завдання 2.** Ми зібрали дані про суму покупок в гривнях 20ма випадково обраними клієнтами в нашому магазині (всього клієнтів у нас більше) за минулий місяць. Вони представлені в змінній `sum_purchases`. Знайдіть **вибіркове середнє** для цих даних кожним з зазначених методів:   \n",
    "\n",
    "  2.1. без використання жодних бібліотек, користуючись тільки Python.  \n",
    "  2.2. використовуючи відповідний метод бібліотеки `numpy`.\n",
    "\n",
    "  Виведіть результат обчислень в кожному з випадків на екран та порівняйте результати. Вони співпадають?"
   ]
  },
  {
   "cell_type": "code",
   "execution_count": 6,
   "metadata": {
    "id": "_9kMt3rq6V5m"
   },
   "outputs": [],
   "source": [
    "sum_purchases = [ 316,  493,  367,  153,  224,  121,  322,  450,  196,  397,  281,\n",
    "  239,  484,  124,  223,  448,  432,  255, 4310, 3524]"
   ]
  },
  {
   "cell_type": "code",
   "execution_count": 33,
   "metadata": {},
   "outputs": [],
   "source": [
    "sum_purchases = np.array(sum_purchases)"
   ]
  },
  {
   "cell_type": "code",
   "execution_count": 34,
   "metadata": {
    "id": "wPmL919HT1c0"
   },
   "outputs": [
    {
     "name": "stdout",
     "output_type": "stream",
     "text": [
      "Вибіркове середнє, користуючись тільки Python: 667.95\n"
     ]
    }
   ],
   "source": [
    "n_sum_purchases = len (sum_purchases)\n",
    "mean_sum_purchases_P = sum (sum_purchases) / n_sum_purchases\n",
    "print ('Вибіркове середнє, користуючись тільки Python:', mean_sum_purchases_P)"
   ]
  },
  {
   "cell_type": "code",
   "execution_count": 8,
   "metadata": {},
   "outputs": [
    {
     "name": "stdout",
     "output_type": "stream",
     "text": [
      "Вибіркове середнє, користуючись numpy: 667.95\n"
     ]
    }
   ],
   "source": [
    "mean_sum_purchases_N = np.mean (sum_purchases)\n",
    "print ('Вибіркове середнє, користуючись numpy:', mean_sum_purchases_N)"
   ]
  },
  {
   "cell_type": "markdown",
   "metadata": {},
   "source": [
    "Значення співпадають."
   ]
  },
  {
   "cell_type": "markdown",
   "metadata": {
    "id": "FMdoxZd0kZdW"
   },
   "source": [
    "**Завдання 3.** Для того ж набору даних в змінній `sum_purchases` обчисліть **медіану** кожним з зазначених методів:  \n",
    "\n",
    "  3.1. без використання жодних бібліотек, користуючись тільки Python.  \n",
    "  3.2. використовуючи відповідний метод бібліотеки numpy.  \n",
    "\n",
    "Виведіть результат обчислень в кожному з випадків на екран. Порівняйте результати зі значенням вибіркового середнього. Напишіть коментар, для яких задач ви б використовували вибіркове середнє, а для яких - медіану?"
   ]
  },
  {
   "cell_type": "code",
   "execution_count": 9,
   "metadata": {
    "id": "x58BumvuT2nl"
   },
   "outputs": [
    {
     "data": {
      "text/plain": [
       "20"
      ]
     },
     "execution_count": 9,
     "metadata": {},
     "output_type": "execute_result"
    }
   ],
   "source": [
    "sorted (sum_purchases)\n",
    "len(sum_purchases)"
   ]
  },
  {
   "cell_type": "code",
   "execution_count": 10,
   "metadata": {},
   "outputs": [
    {
     "name": "stdout",
     "output_type": "stream",
     "text": [
      "Медіана, користуючись Python: 319.0\n"
     ]
    }
   ],
   "source": [
    "mediana_sum_purchases_P = (sorted (sum_purchases)[len(sum_purchases)//2-1] + sorted (sum_purchases)[len(sum_purchases)//2]) / 2\n",
    "print ('Медіана, користуючись Python:', mediana_sum_purchases_P)"
   ]
  },
  {
   "cell_type": "code",
   "execution_count": 11,
   "metadata": {},
   "outputs": [
    {
     "name": "stdout",
     "output_type": "stream",
     "text": [
      "Медіана, користуючись numpy: 319.0\n"
     ]
    }
   ],
   "source": [
    "mediana_sum_purchases_N = np.median(sum_purchases)\n",
    "print ('Медіана, користуючись numpy:', mediana_sum_purchases_N)"
   ]
  },
  {
   "cell_type": "markdown",
   "metadata": {},
   "source": [
    "В результаті проведених розрахунків отримали значення вибіркового середнього - 667.95, медіани - 319.0. Значення вибіркового середнього майже у 2 рази більше, ніж знаяення медіани. Тому, в даному випадку, краще в аналізі спиратись на медіану. На вибіркове середнє значення сильно вплинули останні дві суми покупки, що значно перевищують інші суми покупок і не є постійними та характерними для нашої вибірки.\n",
    "Можна зробити висновок, що доцільним є використання вибіркового середнього значення у випадках використання для аналізу рівних, типових даних без значних викидів. Медіану краще використовувати маючи категоріальні чи ранжовані дані, дані з викидами або асиметрією."
   ]
  },
  {
   "cell_type": "markdown",
   "metadata": {
    "id": "o1Z7az2yNDQV"
   },
   "source": [
    "**Завдання 4**. Обчислість стандартне відхилення наведеної вибірки в змінній `sum_purchases` кожним з зазначених методів:  \n",
    "\n",
    "  4.1. без використання жодних бібліотек, користуючись тільки Python.  \n",
    "  4.2. використовуючи відповідний метод бібліотеки numpy.  \n",
    "\n",
    "Виведіть результат обчислень в кожному з випадків на екран."
   ]
  },
  {
   "cell_type": "code",
   "execution_count": 17,
   "metadata": {},
   "outputs": [
    {
     "name": "stdout",
     "output_type": "stream",
     "text": [
      "Генеральне стандартне відхилення для sum_purchases, користуючись Python: 1096.0692713054227\n",
      "Вибіркове стандартне відхилення для sum_purchases, користуючись Python: 1124.5433447451132\n"
     ]
    }
   ],
   "source": [
    "minus_mean_sum_purchases_1 = [(el - mean_sum_purchases_P) ** 2 for el in sum_purchases]\n",
    "std_sum_purchases_P_general = np.sqrt(sum(minus_mean_sum_purchases_1) / len (sum_purchases))\n",
    "std_sum_purchases_P_sample = np.sqrt(sum(minus_mean_sum_purchases_1) / (len (sum_purchases)-1))\n",
    "print ('Генеральне стандартне відхилення для sum_purchases, користуючись Python:', std_sum_purchases_P_general)\n",
    "print ('Вибіркове стандартне відхилення для sum_purchases, користуючись Python:', std_sum_purchases_P_sample)"
   ]
  },
  {
   "cell_type": "code",
   "execution_count": 18,
   "metadata": {},
   "outputs": [
    {
     "name": "stdout",
     "output_type": "stream",
     "text": [
      "Генеральне стандартне відхилення для sum_purchases, користуючись numpy: 1096.0692713054227\n",
      "Вибіркове стандартне відхилення для sum_purchases, користуючись numpy: 1124.5433447451132\n"
     ]
    }
   ],
   "source": [
    "std_sum_purchases_N_general = np.std(sum_purchases) \n",
    "std_sum_purchases_N_sample = np.std(sum_purchases, ddof = 1)\n",
    "print ('Генеральне стандартне відхилення для sum_purchases, користуючись numpy:', std_sum_purchases_N_general)\n",
    "print ('Вибіркове стандартне відхилення для sum_purchases, користуючись numpy:', std_sum_purchases_N_sample)"
   ]
  },
  {
   "cell_type": "markdown",
   "metadata": {
    "id": "M1ntKTjXLVlH"
   },
   "source": [
    "**Завдання 5**. Ми провели дослідження віку студентів-першокурсників. Виявилось, що\n",
    "- 10 студентів мають вік 16 років\n",
    "- 25 студентів - 17 років\n",
    "- 20 студентів - 18 років\n",
    "- 2 студенти - 20 років\n",
    "\n",
    "Обчислість середнє значення для цієї вибірки будь-яким способом - на чистому Python або з numpy - та виведіть результат на екран."
   ]
  },
  {
   "cell_type": "code",
   "execution_count": 19,
   "metadata": {},
   "outputs": [
    {
     "data": {
      "text/plain": [
       "array([1, 2, 3])"
      ]
     },
     "execution_count": 19,
     "metadata": {},
     "output_type": "execute_result"
    }
   ],
   "source": [
    "np.array(x)"
   ]
  },
  {
   "cell_type": "code",
   "execution_count": 20,
   "metadata": {
    "id": "RdIU4M-7T8R4"
   },
   "outputs": [
    {
     "name": "stdout",
     "output_type": "stream",
     "text": [
      "Середній вік студентів-першокурсників: 17.280701754385966\n"
     ]
    }
   ],
   "source": [
    "age = np.array([16, 17, 18, 20])\n",
    "frequencies = np.array([10, 25, 20, 2])\n",
    "mean_age = np.sum(age * frequencies) / np.sum(frequencies)\n",
    "print(\"Середній вік студентів-першокурсників:\", mean_age)"
   ]
  },
  {
   "cell_type": "markdown",
   "metadata": {
    "id": "Xx8MFkkVM53z"
   },
   "source": [
    "**Завдання 6**. Крім даних про суму покупок, ми зібрали ще дані про кількість відвідувань кожного з кожного покупця, які знаходяться в змінній `visits`. Обчисліть коефіцієнт кореляції Пірсона для суми покупок і кількості відвідувань кожним з зазначених методів:  \n",
    "\n",
    "  6.1. без використання жодних бібліотек, користуючись тільки Python.  \n",
    "  6.2. використовуючи відповідний метод бібліотеки numpy.  \n",
    "  \n",
    "Виведіть результат на екран. Проаналізуйте результат.\n",
    "\n",
    "Виведіть додатково графік розсіювання викликавши код нижче і зробіть заключення, чи варто щось змінити при підрахунку кореляції, аби коефіцієнт Пірсона показував коректну оцінку лінійної залежності?"
   ]
  },
  {
   "cell_type": "code",
   "execution_count": 21,
   "metadata": {
    "id": "4OIGBT7UOWhO"
   },
   "outputs": [],
   "source": [
    "visits = [ 6,  2, 10,  3,  9,  9,  2,  3,  6,  6, 10,  2,  5, 10,  3,  5,  4,\n",
    "        7,  4,  2]"
   ]
  },
  {
   "cell_type": "code",
   "execution_count": 36,
   "metadata": {},
   "outputs": [],
   "source": [
    "visits = np.array(visits) "
   ]
  },
  {
   "cell_type": "code",
   "execution_count": 22,
   "metadata": {
    "id": "YLNF7VbeT97Q"
   },
   "outputs": [
    {
     "name": "stdout",
     "output_type": "stream",
     "text": [
      "Генеральне стандартне відхилення для visits, користуючись Python: 2.8354893757515653\n",
      "Вибіркове стандартне відхилення для visits, користуючись Python: 2.9091507170885533\n"
     ]
    }
   ],
   "source": [
    "n_visits = len (visits)\n",
    "mean_visits = sum (visits) / n_visits\n",
    "minus_mean_visits = [(el - mean_visits) ** 2 for el in visits]\n",
    "std_visits_general_P = np.sqrt(sum(minus_mean_visits) / len (visits))\n",
    "std_visits_sample_P = np.sqrt(sum(minus_mean_visits) / (len (visits)-1))\n",
    "print ('Генеральне стандартне відхилення для visits, користуючись Python:', std_visits_general_P)\n",
    "print ('Вибіркове стандартне відхилення для visits, користуючись Python:', std_visits_sample_P)"
   ]
  },
  {
   "cell_type": "code",
   "execution_count": 23,
   "metadata": {},
   "outputs": [
    {
     "name": "stdout",
     "output_type": "stream",
     "text": [
      "Генеральне стандартне відхилення для visits, користуючись numpy: 2.8354893757515653\n",
      "Вибіркове стандартне відхилення для visits, користуючись numpy: 2.9091507170885533\n"
     ]
    }
   ],
   "source": [
    "std_visits_general_N = np.std(visits) \n",
    "std_visits_sample_N = np.std(visits, ddof = 1)\n",
    "print ('Генеральне стандартне відхилення для visits, користуючись numpy:', std_visits_general_N)\n",
    "print ('Вибіркове стандартне відхилення для visits, користуючись numpy:', std_visits_sample_N)"
   ]
  },
  {
   "cell_type": "code",
   "execution_count": 25,
   "metadata": {},
   "outputs": [
    {
     "name": "stdout",
     "output_type": "stream",
     "text": [
      "Коваріація змінних sum_purchases та visits, користуючись Python: -990.1368421052633\n"
     ]
    }
   ],
   "source": [
    "purchases_visits = [(sum_purchases[i] - mean_sum_purchases_P) * (visits[i] - mean_visits) for i in range (len(sum_purchases))]\n",
    "cov_purchases_visits_P = sum(purchases_visits) / (len(sum_purchases) - 1)\n",
    "print (\"Коваріація змінних sum_purchases та visits, користуючись Python:\", cov_purchases_visits_P)"
   ]
  },
  {
   "cell_type": "code",
   "execution_count": 26,
   "metadata": {},
   "outputs": [
    {
     "name": "stdout",
     "output_type": "stream",
     "text": [
      "Коваріація змінних sum_purchases та visits, користуючись numpy: [[ 1.26459773e+06 -9.90136842e+02]\n",
      " [-9.90136842e+02  8.46315789e+00]]\n"
     ]
    }
   ],
   "source": [
    "cov_purchases_visits_N = np.cov(sum_purchases, visits)\n",
    "print (\"Коваріація змінних sum_purchases та visits, користуючись numpy:\", cov_purchases_visits_N)"
   ]
  },
  {
   "cell_type": "code",
   "execution_count": 27,
   "metadata": {},
   "outputs": [
    {
     "name": "stdout",
     "output_type": "stream",
     "text": [
      "Коефіцієнт кореляції Пірсона для змінних sum_purchases та visits, користуючись Python: -0.30265844687666454\n"
     ]
    }
   ],
   "source": [
    "cov_pirson_purchases_visits_P = cov_purchases_visits_P / (std_sum_purchases_P_sample * std_visits_sample_P)\n",
    "print (\"Коефіцієнт кореляції Пірсона для змінних sum_purchases та visits, користуючись Python:\", cov_pirson_purchases_visits_P)"
   ]
  },
  {
   "cell_type": "code",
   "execution_count": 28,
   "metadata": {},
   "outputs": [
    {
     "name": "stdout",
     "output_type": "stream",
     "text": [
      "Коефіцієнт кореляції Пірсона для змінних sum_purchases та visits, користуючись numpy: [[ 1.         -0.30265845]\n",
      " [-0.30265845  1.        ]]\n"
     ]
    }
   ],
   "source": [
    "cov_pirson_purchases_visits_N = np.corrcoef(sum_purchases, visits)\n",
    "print (\"Коефіцієнт кореляції Пірсона для змінних sum_purchases та visits, користуючись numpy:\", cov_pirson_purchases_visits_N)"
   ]
  },
  {
   "cell_type": "code",
   "execution_count": 29,
   "metadata": {
    "colab": {
     "base_uri": "https://localhost:8080/",
     "height": 472
    },
    "executionInfo": {
     "elapsed": 390,
     "status": "ok",
     "timestamp": 1713730451828,
     "user": {
      "displayName": "Hanna Pylieva",
      "userId": "11922761571498418088"
     },
     "user_tz": -120
    },
    "id": "gaeoGA-5Prr1",
    "outputId": "0c910a7f-0e96-449a-881d-1efa453b3c8d"
   },
   "outputs": [
    {
     "data": {
      "image/png": "[encoded data removed]",
      "text/plain": [
       "<Figure size 640x480 with 1 Axes>"
      ]
     },
     "metadata": {},
     "output_type": "display_data"
    }
   ],
   "source": [
    "import matplotlib.pyplot as plt\n",
    "\n",
    "plt.scatter(sum_purchases, visits)\n",
    "plt.title('Scatter Plot of Purchases vs. Visits')\n",
    "plt.xlabel('Sum of Purchases')\n",
    "plt.ylabel('Number of Visits');"
   ]
  },
  {
   "cell_type": "markdown",
   "metadata": {},
   "source": [
    "На графіку видно дві аномальні точки, що відповідають значенням 4310, 3524 змінної sum_purchases. Внаслідок цього коефіцієнт кореляції Пірсона може бути некоректно оцінений через вплив цих значень. Необхідно видалити або коригувати ці дані."
   ]
  },
  {
   "cell_type": "markdown",
   "metadata": {
    "id": "4pEg0KzSQ6KA"
   },
   "source": [
    "**Завдання 7**. В попередньому завданні ми помітили, що викиди нам заважають отримати \"правдиве\" значення кореляції. Давайте вилучимо записи, які відповідають значенням з викидами в сумі покупок і обчисліть коеф. кореляції. Для цього поставте `threshold`, який дорінює середньому значенню + 2 стандартних вдіхилля суми покупок і всі значення, які більше за нього, будемо вважати викидами (є і інші правила для визначення викидів - з ним и познайомимось пізніше).\n",
    "\n",
    "Вилучіть значення з обох масивів і обчисліть коеф. кореляції Пірсона з допомогою `numpy` для кількості візитів і суми покупок без записів-викидів. Виведіть результат на екран, побудуйте діаграму розсіювання і проаналізуйте результат: що можемо сказати про залежність в даних?"
   ]
  },
  {
   "cell_type": "code",
   "execution_count": 39,
   "metadata": {
    "id": "Yj3Yfaf7UBbc"
   },
   "outputs": [
    {
     "name": "stdout",
     "output_type": "stream",
     "text": [
      "Коефіцієнт кореляції Пірсона для змінних sum_purchases та visits, без врахування викидів: [[ 1.         -0.30265845]\n",
      " [-0.30265845  1.        ]]\n"
     ]
    }
   ],
   "source": [
    "threshold = mean_sum_purchases_N + 2* std_sum_purchases_N_sample\n",
    "valid_data_mask = sum_purchases <= threshold \n",
    "valid_sum_purchases = sum_purchases[valid_data_mask]  \n",
    "valid_visits = visits[valid_data_mask]\n",
    "valid_pirson_purchases_visits_N = np.corrcoef(valid_sum_purchases, valid_visits) [0,1]\n",
    "print (\"Коефіцієнт кореляції Пірсона для змінних sum_purchases та visits, без врахування викидів:\", cov_pirson_purchases_visits_N)"
   ]
  },
  {
   "cell_type": "code",
   "execution_count": 38,
   "metadata": {},
   "outputs": [
    {
     "data": {
      "image/png": "[encoded data removed]",
      "text/plain": [
       "<Figure size 640x480 with 1 Axes>"
      ]
     },
     "metadata": {},
     "output_type": "display_data"
    }
   ],
   "source": [
    "plt.scatter(valid_sum_purchases, valid_visits)\n",
    "plt.title('Scatter Plot of Purchases vs. Visits (valid)')\n",
    "plt.xlabel('Sum of Purchases')\n",
    "plt.ylabel('Number of Visits');"
   ]
  },
  {
   "cell_type": "markdown",
   "metadata": {},
   "source": [
    "Графік наочно показує взаємозв'язок між кількістю візитів і сумою покупок без викидів, що дає змогу зробити висновок про слабку залежність суми покупок від кількості візи"
   ]
  }
 ],
 "metadata": {
  "colab": {
   "provenance": [
    {
     "file_id": "17qHD4-ezroA79uzGY_Rek-wa6yxfpBdH",
     "timestamp": 1715600220377
    }
   ]
  },
  "kernelspec": {
   "display_name": "Python 3 (ipykernel)",
   "language": "python",
   "name": "python3"
  },
  "language_info": {
   "codemirror_mode": {
    "name": "ipython",
    "version": 3
   },
   "file_extension": ".py",
   "mimetype": "text/x-python",
   "name": "python",
   "nbconvert_exporter": "python",
   "pygments_lexer": "ipython3",
   "version": "3.12.4"
  }
 },
 "nbformat": 4,
 "nbformat_minor": 4
}
