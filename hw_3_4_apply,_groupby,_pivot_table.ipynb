{
 "cells": [
  {
   "cell_type": "markdown",
   "metadata": {
    "id": "LwNpAFw_eTF3"
   },
   "source": [
    "#Домашнє завдання до тем apply(), groupby(), pivot_table()"
   ]
  },
  {
   "cell_type": "markdown",
   "metadata": {
    "id": "vP2PEJyq8Yrj"
   },
   "source": [
    "В цьому домашньому завданні продовжуємо працювати з набором даних `supermarket_sales.csv`."
   ]
  },
  {
   "cell_type": "markdown",
   "metadata": {
    "id": "dh9lfpDb8gBL"
   },
   "source": [
    "0. Імпортуйте бібліотеку pandas та зчитайте дані у змінну `df` типу `pandas.DataFrame`."
   ]
  },
  {
   "cell_type": "code",
   "execution_count": 1,
   "metadata": {
    "id": "xBI9gJMK8qnl"
   },
   "outputs": [],
   "source": [
    "import pandas as pd"
   ]
  },
  {
   "cell_type": "code",
   "execution_count": 2,
   "metadata": {},
   "outputs": [],
   "source": [
    "data_path = '../data/supermarket_sales.csv'\n",
    "df = pd.read_csv(data_path)"
   ]
  },
  {
   "cell_type": "markdown",
   "metadata": {
    "id": "28638363"
   },
   "source": [
    "1. Дослідимо, який філіал супермаркету ('Branch') є найприбутковішим. Для цього знайдіть сумарний прибуток за кожним філіалом і виявіть, який філіал має найвищий."
   ]
  },
  {
   "cell_type": "code",
   "execution_count": 6,
   "metadata": {
    "ExecuteTime": {
     "end_time": "2022-11-01T17:27:42.023877Z",
     "start_time": "2022-11-01T17:27:42.020277Z"
    },
    "id": "916d731d"
   },
   "outputs": [
    {
     "data": {
      "text/plain": [
       "Branch\n",
       "A    5057.1605\n",
       "B    5057.0320\n",
       "C    5265.1765\n",
       "Name: gross income, dtype: float64"
      ]
     },
     "execution_count": 6,
     "metadata": {},
     "output_type": "execute_result"
    }
   ],
   "source": [
    "branch_gross = df.groupby('Branch')['gross income'].sum()\n",
    "branch_gross"
   ]
  },
  {
   "cell_type": "markdown",
   "metadata": {},
   "source": [
    "Найвищий прибуток отримано філіалом \"С\", прибутки отримані філіалами \"А\" та \"В\" мають невелику різницю між собою."
   ]
  },
  {
   "cell_type": "markdown",
   "metadata": {
    "id": "2qL_OddUCZKK"
   },
   "source": [
    "2. В якому місті знайходиться філіал з найвищим прибутком? Може в тому місці нам розмітисти ще один магазин.  \n",
    "Знайдіть відповідь за допомогою функціоналу Pandas."
   ]
  },
  {
   "cell_type": "code",
   "execution_count": 10,
   "metadata": {},
   "outputs": [
    {
     "data": {
      "text/html": [
       "<div>\n",
       "<style scoped>\n",
       "    .dataframe tbody tr th:only-of-type {\n",
       "        vertical-align: middle;\n",
       "    }\n",
       "\n",
       "    .dataframe tbody tr th {\n",
       "        vertical-align: top;\n",
       "    }\n",
       "\n",
       "    .dataframe thead th {\n",
       "        text-align: right;\n",
       "    }\n",
       "</style>\n",
       "<table border=\"1\" class=\"dataframe\">\n",
       "  <thead>\n",
       "    <tr style=\"text-align: right;\">\n",
       "      <th></th>\n",
       "      <th></th>\n",
       "      <th>gross income</th>\n",
       "    </tr>\n",
       "    <tr>\n",
       "      <th>Branch</th>\n",
       "      <th>City</th>\n",
       "      <th></th>\n",
       "    </tr>\n",
       "  </thead>\n",
       "  <tbody>\n",
       "    <tr>\n",
       "      <th>A</th>\n",
       "      <th>Yangon</th>\n",
       "      <td>5057.1605</td>\n",
       "    </tr>\n",
       "    <tr>\n",
       "      <th>B</th>\n",
       "      <th>Mandalay</th>\n",
       "      <td>5057.0320</td>\n",
       "    </tr>\n",
       "    <tr>\n",
       "      <th>C</th>\n",
       "      <th>Naypyitaw</th>\n",
       "      <td>5265.1765</td>\n",
       "    </tr>\n",
       "  </tbody>\n",
       "</table>\n",
       "</div>"
      ],
      "text/plain": [
       "                  gross income\n",
       "Branch City                   \n",
       "A      Yangon        5057.1605\n",
       "B      Mandalay      5057.0320\n",
       "C      Naypyitaw     5265.1765"
      ]
     },
     "execution_count": 10,
     "metadata": {},
     "output_type": "execute_result"
    }
   ],
   "source": [
    "branch_gross1 = pd.pivot_table(df, index=['Branch','City'], values=['gross income'], aggfunc=\"sum\")\n",
    "branch_gross1 "
   ]
  },
  {
   "cell_type": "markdown",
   "metadata": {},
   "source": [
    "Так як індексу філіалу супермаркету \"С\" відповідає місто Naypyitaw і в ньому отримано найвищий прибуток, то доцільно розглянути думку про відкриття ще одного магазину у цьому місті."
   ]
  },
  {
   "cell_type": "markdown",
   "metadata": {
    "id": "6dec795f"
   },
   "source": [
    "3.1. Створіть зводну таблицю, яка покаже, скільки покупок (інвойсів) було зроблено в кожній з філій (`Branch`) за різними категоріями товарів. Запишіть таблицю в змінну `invoices_by_category` і виведіть змінну на екран.\n",
    "Ця таблиця допоможе проаналізувати, в якій філії купують найбільше товарів кожної з категорій."
   ]
  },
  {
   "cell_type": "code",
   "execution_count": 35,
   "metadata": {},
   "outputs": [
    {
     "data": {
      "text/html": [
       "<div>\n",
       "<style scoped>\n",
       "    .dataframe tbody tr th:only-of-type {\n",
       "        vertical-align: middle;\n",
       "    }\n",
       "\n",
       "    .dataframe tbody tr th {\n",
       "        vertical-align: top;\n",
       "    }\n",
       "\n",
       "    .dataframe thead tr th {\n",
       "        text-align: left;\n",
       "    }\n",
       "\n",
       "    .dataframe thead tr:last-of-type th {\n",
       "        text-align: right;\n",
       "    }\n",
       "</style>\n",
       "<table border=\"1\" class=\"dataframe\">\n",
       "  <thead>\n",
       "    <tr>\n",
       "      <th></th>\n",
       "      <th colspan=\"6\" halign=\"left\">Invoice ID</th>\n",
       "    </tr>\n",
       "    <tr>\n",
       "      <th>Product line</th>\n",
       "      <th>Electronic accessories</th>\n",
       "      <th>Fashion accessories</th>\n",
       "      <th>Food and beverages</th>\n",
       "      <th>Health and beauty</th>\n",
       "      <th>Home and lifestyle</th>\n",
       "      <th>Sports and travel</th>\n",
       "    </tr>\n",
       "    <tr>\n",
       "      <th>Branch</th>\n",
       "      <th></th>\n",
       "      <th></th>\n",
       "      <th></th>\n",
       "      <th></th>\n",
       "      <th></th>\n",
       "      <th></th>\n",
       "    </tr>\n",
       "  </thead>\n",
       "  <tbody>\n",
       "    <tr>\n",
       "      <th>A</th>\n",
       "      <td>60</td>\n",
       "      <td>51</td>\n",
       "      <td>58</td>\n",
       "      <td>47</td>\n",
       "      <td>65</td>\n",
       "      <td>59</td>\n",
       "    </tr>\n",
       "    <tr>\n",
       "      <th>B</th>\n",
       "      <td>55</td>\n",
       "      <td>62</td>\n",
       "      <td>50</td>\n",
       "      <td>53</td>\n",
       "      <td>50</td>\n",
       "      <td>62</td>\n",
       "    </tr>\n",
       "    <tr>\n",
       "      <th>C</th>\n",
       "      <td>55</td>\n",
       "      <td>65</td>\n",
       "      <td>66</td>\n",
       "      <td>52</td>\n",
       "      <td>45</td>\n",
       "      <td>45</td>\n",
       "    </tr>\n",
       "  </tbody>\n",
       "</table>\n",
       "</div>"
      ],
      "text/plain": [
       "                         Invoice ID                                         \\\n",
       "Product line Electronic accessories Fashion accessories Food and beverages   \n",
       "Branch                                                                       \n",
       "A                                60                  51                 58   \n",
       "B                                55                  62                 50   \n",
       "C                                55                  65                 66   \n",
       "\n",
       "                                                                     \n",
       "Product line Health and beauty Home and lifestyle Sports and travel  \n",
       "Branch                                                               \n",
       "A                           47                 65                59  \n",
       "B                           53                 50                62  \n",
       "C                           52                 45                45  "
      ]
     },
     "execution_count": 35,
     "metadata": {},
     "output_type": "execute_result"
    }
   ],
   "source": [
    "invoices_by_category = pd.pivot_table(df, index='Branch' , columns=['Product line'], values=['Invoice ID'], aggfunc='count')\n",
    "invoices_by_category"
   ]
  },
  {
   "cell_type": "markdown",
   "metadata": {
    "ExecuteTime": {
     "end_time": "2022-11-01T16:50:46.961201Z",
     "start_time": "2022-11-01T16:50:46.955894Z"
    },
    "id": "f5bbfa34"
   },
   "source": [
    "Очікуваний результат:"
   ]
  },
  {
   "cell_type": "markdown",
   "metadata": {
    "id": "34b9bcdc"
   },
   "source": [
    "![](https://drive.google.com/uc?export=view&id=1rueAdko6S3UxIHGtojetTxlES-EyM6Yb)"
   ]
  },
  {
   "cell_type": "markdown",
   "metadata": {
    "id": "woygDEA0OSwJ"
   },
   "source": [
    "3.2. Викристовуючи змінну `invoices_by_category` дайте відповідь програмно (тобто значення треба не просто знайти очима, а вивести за допомогою коду), в якому філіалі магазину (`Branch`) найбільше інвойсів із покупкою товарів категорії \"Електронні аксесуари\" (`Electronic accessories`)?\n"
   ]
  },
  {
   "cell_type": "code",
   "execution_count": 25,
   "metadata": {},
   "outputs": [
    {
     "name": "stdout",
     "output_type": "stream",
     "text": [
      "MultiIndex([('Invoice ID', 'Electronic accessories'),\n",
      "            ('Invoice ID',    'Fashion accessories'),\n",
      "            ('Invoice ID',     'Food and beverages'),\n",
      "            ('Invoice ID',      'Health and beauty'),\n",
      "            ('Invoice ID',     'Home and lifestyle'),\n",
      "            ('Invoice ID',      'Sports and travel')],\n",
      "           names=[None, 'Product line'])\n"
     ]
    }
   ],
   "source": [
    "print(invoices_by_category.columns)"
   ]
  },
  {
   "cell_type": "code",
   "execution_count": 42,
   "metadata": {},
   "outputs": [
    {
     "name": "stdout",
     "output_type": "stream",
     "text": [
      "Філіал із найбільшою кількістю інвойсів у категорії 'Electronic accessories': A\n"
     ]
    }
   ],
   "source": [
    "branch_with_max = invoices_by_category[('Invoice ID', 'Electronic accessories')].idxmax()\n",
    "\n",
    "print(f\"Філіал із найбільшою кількістю інвойсів у категорії 'Electronic accessories': {branch_with_max}\")"
   ]
  },
  {
   "cell_type": "code",
   "execution_count": 43,
   "metadata": {},
   "outputs": [
    {
     "data": {
      "text/plain": [
       "Index(['Electronic accessories', 'Fashion accessories', 'Food and beverages',\n",
       "       'Health and beauty', 'Home and lifestyle', 'Sports and travel'],\n",
       "      dtype='object', name='Product line')"
      ]
     },
     "execution_count": 43,
     "metadata": {},
     "output_type": "execute_result"
    }
   ],
   "source": [
    " invoices_by_category.columns.droplevel(0)"
   ]
  },
  {
   "cell_type": "code",
   "execution_count": 47,
   "metadata": {},
   "outputs": [
    {
     "data": {
      "text/html": [
       "<div>\n",
       "<style scoped>\n",
       "    .dataframe tbody tr th:only-of-type {\n",
       "        vertical-align: middle;\n",
       "    }\n",
       "\n",
       "    .dataframe tbody tr th {\n",
       "        vertical-align: top;\n",
       "    }\n",
       "\n",
       "    .dataframe thead th {\n",
       "        text-align: right;\n",
       "    }\n",
       "</style>\n",
       "<table border=\"1\" class=\"dataframe\">\n",
       "  <thead>\n",
       "    <tr style=\"text-align: right;\">\n",
       "      <th>Product line</th>\n",
       "      <th>Electronic accessories</th>\n",
       "      <th>Fashion accessories</th>\n",
       "      <th>Food and beverages</th>\n",
       "      <th>Health and beauty</th>\n",
       "      <th>Home and lifestyle</th>\n",
       "      <th>Sports and travel</th>\n",
       "    </tr>\n",
       "    <tr>\n",
       "      <th>Branch</th>\n",
       "      <th></th>\n",
       "      <th></th>\n",
       "      <th></th>\n",
       "      <th></th>\n",
       "      <th></th>\n",
       "      <th></th>\n",
       "    </tr>\n",
       "  </thead>\n",
       "  <tbody>\n",
       "    <tr>\n",
       "      <th>A</th>\n",
       "      <td>60</td>\n",
       "      <td>51</td>\n",
       "      <td>58</td>\n",
       "      <td>47</td>\n",
       "      <td>65</td>\n",
       "      <td>59</td>\n",
       "    </tr>\n",
       "    <tr>\n",
       "      <th>B</th>\n",
       "      <td>55</td>\n",
       "      <td>62</td>\n",
       "      <td>50</td>\n",
       "      <td>53</td>\n",
       "      <td>50</td>\n",
       "      <td>62</td>\n",
       "    </tr>\n",
       "    <tr>\n",
       "      <th>C</th>\n",
       "      <td>55</td>\n",
       "      <td>65</td>\n",
       "      <td>66</td>\n",
       "      <td>52</td>\n",
       "      <td>45</td>\n",
       "      <td>45</td>\n",
       "    </tr>\n",
       "  </tbody>\n",
       "</table>\n",
       "</div>"
      ],
      "text/plain": [
       "Product line  Electronic accessories  Fashion accessories  Food and beverages  \\\n",
       "Branch                                                                          \n",
       "A                                 60                   51                  58   \n",
       "B                                 55                   62                  50   \n",
       "C                                 55                   65                  66   \n",
       "\n",
       "Product line  Health and beauty  Home and lifestyle  Sports and travel  \n",
       "Branch                                                                  \n",
       "A                            47                  65                 59  \n",
       "B                            53                  50                 62  \n",
       "C                            52                  45                 45  "
      ]
     },
     "execution_count": 47,
     "metadata": {},
     "output_type": "execute_result"
    }
   ],
   "source": [
    "invoices_by_category.columns = invoices_by_category.columns.droplevel(0)\n",
    "invoices_by_category"
   ]
  },
  {
   "cell_type": "code",
   "execution_count": 48,
   "metadata": {},
   "outputs": [
    {
     "name": "stdout",
     "output_type": "stream",
     "text": [
      "Product line  Electronic accessories  Fashion accessories  Food and beverages  \\\n",
      "Branch                                                                          \n",
      "A                                 60                   51                  58   \n",
      "B                                 55                   62                  50   \n",
      "C                                 55                   65                  66   \n",
      "\n",
      "Product line  Health and beauty  Home and lifestyle  Sports and travel  \n",
      "Branch                                                                  \n",
      "A                            47                  65                 59  \n",
      "B                            53                  50                 62  \n",
      "C                            52                  45                 45  \n"
     ]
    }
   ],
   "source": [
    "print(invoices_by_category)"
   ]
  },
  {
   "cell_type": "code",
   "execution_count": 49,
   "metadata": {},
   "outputs": [
    {
     "name": "stdout",
     "output_type": "stream",
     "text": [
      "Філіал із найбільшою кількістю інвойсів у категорії 'Electronic accessories': A\n"
     ]
    }
   ],
   "source": [
    "branch_with_max = invoices_by_category['Electronic accessories'].idxmax()\n",
    "\n",
    "print(f\"Філіал із найбільшою кількістю інвойсів у категорії 'Electronic accessories': {branch_with_max}\")"
   ]
  },
  {
   "cell_type": "markdown",
   "metadata": {
    "ExecuteTime": {
     "end_time": "2022-11-01T17:56:02.981755Z",
     "start_time": "2022-11-01T17:56:02.977086Z"
    },
    "id": "d005a2b8"
   },
   "source": [
    "4-6. **Творче завдання на розвиток аналітичного мислення**\n",
    "\n",
    "Крок 1. Сформулюйте ТРИ питання (гіпотези) до наявних даних, які допомогли б вам зрозуміти, які користувачі що, де та коли найбільше/найменше купують, аби дати на основі цих гіпотез рекомендації бізнесу. Звісно питання мають бути не тими, на які ми вже відповіли в завданнях модулю.\n",
    "\n",
    "Крок 2. Знайдіть відповіді на свої питання з допомогою функціоналу pandas.\n",
    "\n",
    "Крок 3. Напишіть, як відповідь на це питання може бути використана для прийняття бізнес рішень.   \n",
    "   \n",
    " Питання можуть бути будь-якої складності, але їх має бути 3. Кожне питання оцінюється як 1 завдання. Без виконання цього завдання ДЗ не приймається. Якщо є питання щодо виконання - пишіть у чат 🙌\n"
   ]
  },
  {
   "cell_type": "markdown",
   "metadata": {},
   "source": [
    "Можу запропонувати такі питання:\n",
    "1. який середній рейтинг задоволення клієнтів від загального досвіду покупок по трьом філіалам супрмаркетів (по шкалі від 1 до 10)\n",
    "2. який розподіл кількості покупок між кожним типом клієнтів по кожному супермаркету\n",
    "3. який розподіл використання методів оплати по супермаркетах в розрізі загальної суми покупки та середнього чеку"
   ]
  },
  {
   "cell_type": "markdown",
   "metadata": {},
   "source": [
    "Розглянемо кожну відповіль окремо.\n",
    "    1. середній рейтинг задоволення клієнтів від загального досвіду покупок по трьом філіалам супрмаркетів (по шкалі від 1 до 10):"
   ]
  },
  {
   "cell_type": "code",
   "execution_count": 57,
   "metadata": {
    "id": "cM3cApWSZuRX"
   },
   "outputs": [
    {
     "data": {
      "text/plain": [
       "City\n",
       "Mandalay     6.8181\n",
       "Naypyitaw    7.0729\n",
       "Yangon       7.0271\n",
       "Name: Rating, dtype: float64"
      ]
     },
     "execution_count": 57,
     "metadata": {},
     "output_type": "execute_result"
    }
   ],
   "source": [
    "df.groupby('City')['Rating'].mean().round(4)"
   ]
  },
  {
   "cell_type": "markdown",
   "metadata": {},
   "source": [
    "З розрахунку видно, що розбіжності рейтингах між супермаркетах в містах не значні, всі вище середнього значення (шкала вимірювання від 1 до 10), найбільше значення в місті Naypyitaw - 7.0729, найменше в місті Mandalay - 6.8181. \n",
    "Керівництву супермаркету в місті Mandalay необхідно направити зусилля на підвищення рейтенгу задоволеності клієнтів через:\n",
    "- приділення більше уваги підвищенню рівня обслуговування;\n",
    "- проведення тренінгів для персоналу;\n",
    "- покращення умов покупок;\n",
    "- проведення маркетингових кампаній для залучення уваги до цього супермаркету;\n",
    "- виявлення конкретних проблем або областей для покращення (наприклад, час очікування в черзі, асортимент товарів чи поведінка персоналу)."
   ]
  },
  {
   "cell_type": "markdown",
   "metadata": {},
   "source": [
    "    2. розподіл кількості покупок між кожним типом клієнтів по кожному супермаркету"
   ]
  },
  {
   "cell_type": "code",
   "execution_count": 69,
   "metadata": {},
   "outputs": [
    {
     "data": {
      "text/html": [
       "<div>\n",
       "<style scoped>\n",
       "    .dataframe tbody tr th:only-of-type {\n",
       "        vertical-align: middle;\n",
       "    }\n",
       "\n",
       "    .dataframe tbody tr th {\n",
       "        vertical-align: top;\n",
       "    }\n",
       "\n",
       "    .dataframe thead tr th {\n",
       "        text-align: left;\n",
       "    }\n",
       "\n",
       "    .dataframe thead tr:last-of-type th {\n",
       "        text-align: right;\n",
       "    }\n",
       "</style>\n",
       "<table border=\"1\" class=\"dataframe\">\n",
       "  <thead>\n",
       "    <tr>\n",
       "      <th></th>\n",
       "      <th colspan=\"2\" halign=\"left\">Quantity</th>\n",
       "    </tr>\n",
       "    <tr>\n",
       "      <th>Customer type</th>\n",
       "      <th>Member</th>\n",
       "      <th>Normal</th>\n",
       "    </tr>\n",
       "    <tr>\n",
       "      <th>City</th>\n",
       "      <th></th>\n",
       "      <th></th>\n",
       "    </tr>\n",
       "  </thead>\n",
       "  <tbody>\n",
       "    <tr>\n",
       "      <th>Mandalay</th>\n",
       "      <td>924</td>\n",
       "      <td>896</td>\n",
       "    </tr>\n",
       "    <tr>\n",
       "      <th>Naypyitaw</th>\n",
       "      <td>897</td>\n",
       "      <td>934</td>\n",
       "    </tr>\n",
       "    <tr>\n",
       "      <th>Yangon</th>\n",
       "      <td>964</td>\n",
       "      <td>895</td>\n",
       "    </tr>\n",
       "  </tbody>\n",
       "</table>\n",
       "</div>"
      ],
      "text/plain": [
       "              Quantity       \n",
       "Customer type   Member Normal\n",
       "City                         \n",
       "Mandalay           924    896\n",
       "Naypyitaw          897    934\n",
       "Yangon             964    895"
      ]
     },
     "execution_count": 69,
     "metadata": {},
     "output_type": "execute_result"
    }
   ],
   "source": [
    "invoices_by_ustomer_type = pd.pivot_table(df, index='City' , columns=['Customer type'], values=['Quantity'], aggfunc='sum')\n",
    "invoices_by_ustomer_type"
   ]
  },
  {
   "cell_type": "code",
   "execution_count": 71,
   "metadata": {},
   "outputs": [
    {
     "name": "stdout",
     "output_type": "stream",
     "text": [
      "Місцезнаходження супермаркета із найбільшою кількістю покупок здійсненою клієнтами, що використовують картку члена: Yangon\n"
     ]
    }
   ],
   "source": [
    "customer_type_member_max = invoices_by_ustomer_type[('Quantity', 'Member')].idxmax()\n",
    "print(f\"Місцезнаходження супермаркета із найбільшою кількістю покупок здійсненою клієнтами, що використовують картку члена: {customer_type_member_max}\")"
   ]
  },
  {
   "cell_type": "code",
   "execution_count": 75,
   "metadata": {},
   "outputs": [
    {
     "name": "stdout",
     "output_type": "stream",
     "text": [
      "Місцезнаходження супермаркета із найменшою кількістю покупок здійсненою клієнтами, що використовують картку члена: Naypyitaw\n"
     ]
    }
   ],
   "source": [
    "customer_type_member_min = invoices_by_ustomer_type[('Quantity', 'Member')].idxmin()\n",
    "print(f\"Місцезнаходження супермаркета із найменшою кількістю покупок здійсненою клієнтами, що використовують картку члена: {customer_type_member_min}\")"
   ]
  },
  {
   "cell_type": "code",
   "execution_count": 77,
   "metadata": {},
   "outputs": [
    {
     "name": "stdout",
     "output_type": "stream",
     "text": [
      "Місцезнаходження супермаркета із найбільшою кількістю покупок, здійсненою звичайними клієнтами: Naypyitaw\n"
     ]
    }
   ],
   "source": [
    "customer_type_normal_max = invoices_by_ustomer_type[('Quantity', 'Normal')].idxmax()\n",
    "print(f\"Місцезнаходження супермаркета із найбільшою кількістю покупок, здійсненою звичайними клієнтами: {customer_type_normal_max}\")"
   ]
  },
  {
   "cell_type": "code",
   "execution_count": 78,
   "metadata": {},
   "outputs": [
    {
     "name": "stdout",
     "output_type": "stream",
     "text": [
      "Місцезнаходження супермаркета із найменшою кількістю покупок, здійсненою звичайними клієнтами: Yangon\n"
     ]
    }
   ],
   "source": [
    "customer_type_normal_min = invoices_by_ustomer_type[('Quantity', 'Normal')].idxmin()\n",
    "print(f\"Місцезнаходження супермаркета із найменшою кількістю покупок, здійсненою звичайними клієнтами: {customer_type_normal_min}\")"
   ]
  },
  {
   "cell_type": "markdown",
   "metadata": {},
   "source": [
    "З розрахунку можемо зробити висновок про те, що:\n",
    "- у місті Yangon знаходиться супермаркет із найбільшою кількістю покупок (964) здійсненою клієнтами, що використовують картку члена та з найменшою кількістю покупок (895), здійсненою звичайними клієнтами;\n",
    "- у місті Naypyitaw знаходиться супермаркет із найбільшою кількістю покупок (934) здійсненою звичайними клієнтами та з найменшою кількістю покупок (897) здійсненою клієнтами, що використовують картку члена;\n",
    "- у місті Mandalay середні показники у цих категоріях, при чому кількість кількістю покупок, здійсненою звичайними клієнтами, становить 896, що робить її майже однаковою з показником в місті Yangon;.\n",
    "Для міста Naypyitaw необхідно зосередитись на просуванні спеціальних акцій, для мотивації  покупців ставати членами програми лояльності.\n",
    "Для міста Yangon необхідно продовжувати розвивати програму лояльності, пропонуючи нові переваги та знижки, щоб збільшити частоту покупок серед цієї групи, ці захди можна просувати і для міста Mandalay для збільшення кількості покупців, що є членами клубу.   \n",
    "Моніторинг ефективності програм лояльності в різних містах: Порівняння результатів між різними містами та типами клієнтів допоможе зрозуміти, де програма лояльності дає найбільший ефект, і зосередити зусилля на цих локаціях.\n",
    "\n",
    "    3. розподіл використання методів оплати по супермаркетах в розрізі загальної суми покупки та середнього чеку"
   ]
  },
  {
   "cell_type": "code",
   "execution_count": 55,
   "metadata": {},
   "outputs": [
    {
     "data": {
      "text/html": [
       "<div>\n",
       "<style scoped>\n",
       "    .dataframe tbody tr th:only-of-type {\n",
       "        vertical-align: middle;\n",
       "    }\n",
       "\n",
       "    .dataframe tbody tr th {\n",
       "        vertical-align: top;\n",
       "    }\n",
       "\n",
       "    .dataframe thead th {\n",
       "        text-align: right;\n",
       "    }\n",
       "</style>\n",
       "<table border=\"1\" class=\"dataframe\">\n",
       "  <thead>\n",
       "    <tr style=\"text-align: right;\">\n",
       "      <th></th>\n",
       "      <th></th>\n",
       "      <th>Quantity</th>\n",
       "      <th>Total</th>\n",
       "    </tr>\n",
       "    <tr>\n",
       "      <th>City</th>\n",
       "      <th>Payment</th>\n",
       "      <th></th>\n",
       "      <th></th>\n",
       "    </tr>\n",
       "  </thead>\n",
       "  <tbody>\n",
       "    <tr>\n",
       "      <th rowspan=\"3\" valign=\"top\">Mandalay</th>\n",
       "      <th>Cash</th>\n",
       "      <td>628</td>\n",
       "      <td>321.267832</td>\n",
       "    </tr>\n",
       "    <tr>\n",
       "      <th>Credit card</th>\n",
       "      <td>599</td>\n",
       "      <td>342.613362</td>\n",
       "    </tr>\n",
       "    <tr>\n",
       "      <th>Ewallet</th>\n",
       "      <td>593</td>\n",
       "      <td>296.578354</td>\n",
       "    </tr>\n",
       "    <tr>\n",
       "      <th rowspan=\"3\" valign=\"top\">Naypyitaw</th>\n",
       "      <th>Cash</th>\n",
       "      <td>696</td>\n",
       "      <td>347.466593</td>\n",
       "    </tr>\n",
       "    <tr>\n",
       "      <th>Credit card</th>\n",
       "      <td>543</td>\n",
       "      <td>309.463929</td>\n",
       "    </tr>\n",
       "    <tr>\n",
       "      <th>Ewallet</th>\n",
       "      <td>592</td>\n",
       "      <td>350.522491</td>\n",
       "    </tr>\n",
       "    <tr>\n",
       "      <th rowspan=\"3\" valign=\"top\">Yangon</th>\n",
       "      <th>Cash</th>\n",
       "      <td>572</td>\n",
       "      <td>307.102282</td>\n",
       "    </tr>\n",
       "    <tr>\n",
       "      <th>Credit card</th>\n",
       "      <td>580</td>\n",
       "      <td>318.218755</td>\n",
       "    </tr>\n",
       "    <tr>\n",
       "      <th>Ewallet</th>\n",
       "      <td>707</td>\n",
       "      <td>312.098167</td>\n",
       "    </tr>\n",
       "  </tbody>\n",
       "</table>\n",
       "</div>"
      ],
      "text/plain": [
       "                       Quantity       Total\n",
       "City      Payment                          \n",
       "Mandalay  Cash              628  321.267832\n",
       "          Credit card       599  342.613362\n",
       "          Ewallet           593  296.578354\n",
       "Naypyitaw Cash              696  347.466593\n",
       "          Credit card       543  309.463929\n",
       "          Ewallet           592  350.522491\n",
       "Yangon    Cash              572  307.102282\n",
       "          Credit card       580  318.218755\n",
       "          Ewallet           707  312.098167"
      ]
     },
     "execution_count": 55,
     "metadata": {},
     "output_type": "execute_result"
    }
   ],
   "source": [
    "df.groupby(['City', 'Payment']).agg({'Quantity': 'sum', 'Total': 'mean'})"
   ]
  },
  {
   "cell_type": "markdown",
   "metadata": {},
   "source": [
    "Проаналізуємо способи оплати по містам:\n",
    "-  Mandalay - найбільше покупок має спосіб оплати готівкю, найбільша середня покупка оплачена кредитною картою;\n",
    "-  Naypyitaw - найбільше покупок має спосіб оплати готівкю, найбільша середня покупка оплачена з електронного гаманця;\n",
    "-  Yangon - найбільше покупок має спосіб оплати електронним гаманцем, найбільша середня покупка оплачена кредитною картою.\n",
    "Ці дані можна викристовувати для розробки маркетингових компаній для залучення покупців з огляду на спосіб оплати в супермаркетах, пропонуати певні акції з огляду на найбільш популярні способи оплати в кожному місті."
   ]
  }
 ],
 "metadata": {
  "colab": {
   "provenance": []
  },
  "kernelspec": {
   "display_name": "Python 3 (ipykernel)",
   "language": "python",
   "name": "python3"
  },
  "language_info": {
   "codemirror_mode": {
    "name": "ipython",
    "version": 3
   },
   "file_extension": ".py",
   "mimetype": "text/x-python",
   "name": "python",
   "nbconvert_exporter": "python",
   "pygments_lexer": "ipython3",
   "version": "3.12.4"
  }
 },
 "nbformat": 4,
 "nbformat_minor": 4
}
