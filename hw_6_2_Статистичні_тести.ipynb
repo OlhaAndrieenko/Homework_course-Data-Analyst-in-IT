{
 "cells": [
  {
   "cell_type": "markdown",
   "id": "e152f6d6",
   "metadata": {
    "ExecuteTime": {
     "end_time": "2022-12-10T14:29:24.703416Z",
     "start_time": "2022-12-10T14:29:24.688485Z"
    },
    "id": "e152f6d6"
   },
   "source": [
    "## Домашнє завдання 6: Статистичні тести"
   ]
  },
  {
   "cell_type": "markdown",
   "id": "cd404683",
   "metadata": {
    "id": "cd404683"
   },
   "source": [
    "0. Зчитайте дані з `data.csv` та запишіть значення колонки data у форматі np.ndarray в змінну data. Ми будемо далі працювати з цією змінною."
   ]
  },
  {
   "cell_type": "code",
   "execution_count": 10,
   "id": "a8M1Xqa3hInl",
   "metadata": {
    "id": "a8M1Xqa3hInl"
   },
   "outputs": [
    {
     "data": {
      "text/plain": [
       "['.ipynb_checkpoints',\n",
       " 'ab_data.csv',\n",
       " 'cookie_cats.csv',\n",
       " 'data.csv',\n",
       " 'data_2.csv',\n",
       " 'health_insurance_cross_sell_prediction.csv',\n",
       " 'mysqlsampledatabase (1).zip',\n",
       " 'mysqlsampledatabase.sql',\n",
       " 'supermarket_sales.csv',\n",
       " 'test_db',\n",
       " 'test_db-master.zip',\n",
       " 'yulu_rental.csv']"
      ]
     },
     "execution_count": 10,
     "metadata": {},
     "output_type": "execute_result"
    }
   ],
   "source": [
    "import pandas as pd\n",
    "import numpy as np\n",
    "import os\n",
    "os.listdir ('../Data/')"
   ]
  },
  {
   "cell_type": "code",
   "execution_count": 33,
   "id": "f592af11-3b1b-4430-9360-949a45a2cf6d",
   "metadata": {},
   "outputs": [
    {
     "data": {
      "text/html": [
       "<div>\n",
       "<style scoped>\n",
       "    .dataframe tbody tr th:only-of-type {\n",
       "        vertical-align: middle;\n",
       "    }\n",
       "\n",
       "    .dataframe tbody tr th {\n",
       "        vertical-align: top;\n",
       "    }\n",
       "\n",
       "    .dataframe thead th {\n",
       "        text-align: right;\n",
       "    }\n",
       "</style>\n",
       "<table border=\"1\" class=\"dataframe\">\n",
       "  <thead>\n",
       "    <tr style=\"text-align: right;\">\n",
       "      <th></th>\n",
       "      <th>Unnamed: 0</th>\n",
       "      <th>data</th>\n",
       "    </tr>\n",
       "  </thead>\n",
       "  <tbody>\n",
       "    <tr>\n",
       "      <th>0</th>\n",
       "      <td>0</td>\n",
       "      <td>17.499453</td>\n",
       "    </tr>\n",
       "    <tr>\n",
       "      <th>1</th>\n",
       "      <td>1</td>\n",
       "      <td>19.662399</td>\n",
       "    </tr>\n",
       "    <tr>\n",
       "      <th>2</th>\n",
       "      <td>2</td>\n",
       "      <td>7.182823</td>\n",
       "    </tr>\n",
       "    <tr>\n",
       "      <th>3</th>\n",
       "      <td>3</td>\n",
       "      <td>29.841625</td>\n",
       "    </tr>\n",
       "    <tr>\n",
       "      <th>4</th>\n",
       "      <td>4</td>\n",
       "      <td>9.239386</td>\n",
       "    </tr>\n",
       "  </tbody>\n",
       "</table>\n",
       "</div>"
      ],
      "text/plain": [
       "   Unnamed: 0       data\n",
       "0           0  17.499453\n",
       "1           1  19.662399\n",
       "2           2   7.182823\n",
       "3           3  29.841625\n",
       "4           4   9.239386"
      ]
     },
     "execution_count": 33,
     "metadata": {},
     "output_type": "execute_result"
    }
   ],
   "source": [
    "data_path_1 = '../Data/data.csv'\n",
    "df_1 = pd.read_csv(data_path_1)\n",
    "df_1.head(5)"
   ]
  },
  {
   "cell_type": "code",
   "execution_count": 34,
   "id": "eca086d5-ec94-4c52-8be6-fa59ebc97797",
   "metadata": {},
   "outputs": [
    {
     "data": {
      "text/plain": [
       "(100, 2)"
      ]
     },
     "execution_count": 34,
     "metadata": {},
     "output_type": "execute_result"
    }
   ],
   "source": [
    "df_1.shape"
   ]
  },
  {
   "cell_type": "code",
   "execution_count": 39,
   "id": "59066982-d6dc-4a6b-940d-e3098e83d8ee",
   "metadata": {},
   "outputs": [],
   "source": [
    "data_1 = df_1['data'].to_numpy()"
   ]
  },
  {
   "cell_type": "markdown",
   "id": "3d06cbbf",
   "metadata": {
    "id": "3d06cbbf"
   },
   "source": [
    "Запустіть код нижче. Для коректної робити всіх подальших методів дані мають бути у вигляді одновимірного вектора, тобто мати розмір (100,)."
   ]
  },
  {
   "cell_type": "code",
   "execution_count": 44,
   "id": "Rc_cM9TfhJYI",
   "metadata": {
    "id": "Rc_cM9TfhJYI"
   },
   "outputs": [
    {
     "data": {
      "text/plain": [
       "(100,)"
      ]
     },
     "execution_count": 44,
     "metadata": {},
     "output_type": "execute_result"
    }
   ],
   "source": [
    "data.shape"
   ]
  },
  {
   "cell_type": "markdown",
   "id": "abdcef5d",
   "metadata": {
    "id": "abdcef5d"
   },
   "source": [
    "1. Зчитані дані - це сума покупок в доларах наших покупців на сайті протягом липня 2022 року.\n",
    "\n",
    "До цього місяця, ми мали продажі в середньому на чек $20. Чи вийшло у нас статистично значущо **підвищити** середній чек за останній місяць?\n",
    "\n",
    "Оберіть статистичний тест (z-test чи t-test). Виведіть p-значення статистичного тесту та зробіть висновок, чи ми маємо зараз статистично значущу різницю у розмірі середнього чеку.\n",
    "\n",
    "**Підказка**: тут тест буде одновибірковий."
   ]
  },
  {
   "cell_type": "code",
   "execution_count": 28,
   "id": "b3fc629e-87da-48b2-9f52-10da69518bce",
   "metadata": {},
   "outputs": [],
   "source": [
    "from statsmodels.stats.weightstats import ztest"
   ]
  },
  {
   "cell_type": "code",
   "execution_count": 37,
   "id": "79ddd36a-0861-43c3-87d4-1241fa78c374",
   "metadata": {},
   "outputs": [
    {
     "name": "stdout",
     "output_type": "stream",
     "text": [
      "Z-статистика: -0.9953477389335053\n",
      "p-значення: 0.8402164165464012\n",
      "Не відхиляємо нульову гіпотезу: немає статистично значущого зростання середнього чеку.\n"
     ]
    }
   ],
   "source": [
    "mu_0 = 20\n",
    "\n",
    "# Виконання Z-тесту\n",
    "ztest_Score, p_value = ztest(data, value= mu_0, alternative='larger')\n",
    "\n",
    "# Виведення результатів\n",
    "print(f\"Z-статистика: {ztest_Score}\")\n",
    "print(f\"p-значення: {p_value}\")\n",
    "\n",
    "# Висновок\n",
    "alpha = 0.05\n",
    "if p_value < alpha:\n",
    "    print(\"Відхиляємо нульову гіпотезу: середній чек статистично значущо збільшився.\")\n",
    "else:\n",
    "    print(\"Не відхиляємо нульову гіпотезу: немає статистично значущого зростання середнього чеку.\")"
   ]
  },
  {
   "cell_type": "markdown",
   "id": "c2d0461d-7b0a-4263-bf88-3875d12e3d0d",
   "metadata": {},
   "source": [
    "Для виконання завдання обрано статистичний z-test, так як розмір вибірки більше 30 (таблиця data має 100 рядків, 2 колонки). Р-значення: дорівнює 0.8402164165464012, що є більше за рівень значущості (alpha = 0.05). Тому можна зробити висновок, що ми не можемо відхилити нульову гіпотезу і наразі відсутня статистично значуща різниця у розмірі середнього чеку за останній місяць. "
   ]
  },
  {
   "cell_type": "markdown",
   "id": "05219e41",
   "metadata": {
    "ExecuteTime": {
     "end_time": "2022-12-10T14:52:46.140204Z",
     "start_time": "2022-12-10T14:52:46.112068Z"
    },
    "id": "05219e41"
   },
   "source": [
    "2. Пройшов час, і ми зібрали дані про продажі за серпень 2022 року, які зберігли у файл `data_2.csv`. Продажів було дещо більше, але чи змінився стат. значущо середній чек порівняно з липнем 2022? Перевірте це використовуючи ztest.\n",
    "\n",
    "  Виведіть p-значення статистичного тесту та зробіть висновок, чи ми маємо зараз статистично значущу різницю у розмірі середнього чека між двома місяцями.\n",
    "\n",
    "  **Підказка**: треба провести двовибірковий ztest з Н0 - що середні значення в липні та серпні 2022 року - однакові. Для кращого розуміння ситуації, можливо вам буде цікаво переглянути, які середні показники чеку були в кожен з місяців. Порівняйте свій висновок з простого спостереження середніх значень і висновок статистичного тесту. Чи вони збігаються?"
   ]
  },
  {
   "cell_type": "code",
   "execution_count": 38,
   "id": "hbs7LPI4hP-6",
   "metadata": {
    "id": "hbs7LPI4hP-6"
   },
   "outputs": [
    {
     "data": {
      "text/html": [
       "<div>\n",
       "<style scoped>\n",
       "    .dataframe tbody tr th:only-of-type {\n",
       "        vertical-align: middle;\n",
       "    }\n",
       "\n",
       "    .dataframe tbody tr th {\n",
       "        vertical-align: top;\n",
       "    }\n",
       "\n",
       "    .dataframe thead th {\n",
       "        text-align: right;\n",
       "    }\n",
       "</style>\n",
       "<table border=\"1\" class=\"dataframe\">\n",
       "  <thead>\n",
       "    <tr style=\"text-align: right;\">\n",
       "      <th></th>\n",
       "      <th>data</th>\n",
       "    </tr>\n",
       "  </thead>\n",
       "  <tbody>\n",
       "    <tr>\n",
       "      <th>0</th>\n",
       "      <td>5.940159</td>\n",
       "    </tr>\n",
       "    <tr>\n",
       "      <th>1</th>\n",
       "      <td>29.189344</td>\n",
       "    </tr>\n",
       "    <tr>\n",
       "      <th>2</th>\n",
       "      <td>11.383502</td>\n",
       "    </tr>\n",
       "    <tr>\n",
       "      <th>3</th>\n",
       "      <td>15.434098</td>\n",
       "    </tr>\n",
       "    <tr>\n",
       "      <th>4</th>\n",
       "      <td>19.896752</td>\n",
       "    </tr>\n",
       "  </tbody>\n",
       "</table>\n",
       "</div>"
      ],
      "text/plain": [
       "        data\n",
       "0   5.940159\n",
       "1  29.189344\n",
       "2  11.383502\n",
       "3  15.434098\n",
       "4  19.896752"
      ]
     },
     "execution_count": 38,
     "metadata": {},
     "output_type": "execute_result"
    }
   ],
   "source": [
    "data_path_2 = '../Data/data_2.csv'\n",
    "df_2 = pd.read_csv(data_path_2)\n",
    "df_2.head(5)"
   ]
  },
  {
   "cell_type": "code",
   "execution_count": 41,
   "id": "ba28c72a-0098-4a10-b536-3bca252c8eec",
   "metadata": {},
   "outputs": [
    {
     "data": {
      "text/plain": [
       "(120, 1)"
      ]
     },
     "execution_count": 41,
     "metadata": {},
     "output_type": "execute_result"
    }
   ],
   "source": [
    "df_2.shape"
   ]
  },
  {
   "cell_type": "code",
   "execution_count": 42,
   "id": "63803fc4-4531-4062-8f7e-9bc91ca0d445",
   "metadata": {},
   "outputs": [],
   "source": [
    "data_2 = df_2['data'].to_numpy()"
   ]
  },
  {
   "cell_type": "code",
   "execution_count": 47,
   "id": "b0c55ee8-5a05-4801-ac65-4864c1bd277a",
   "metadata": {},
   "outputs": [
    {
     "name": "stdout",
     "output_type": "stream",
     "text": [
      "Середній чек за липень серпень 2022 року: 19.37755319670441\n",
      "Середній чек за серпень 2022 року: 19.37322276512519\n"
     ]
    }
   ],
   "source": [
    "mean_1 = np.mean (data_1)\n",
    "mean_2 = np.mean (data_2)\n",
    "print ('Середній чек за липень серпень 2022 року:', mean_1)\n",
    "print ('Середній чек за серпень 2022 року:', mean_2)"
   ]
  },
  {
   "cell_type": "code",
   "execution_count": 52,
   "id": "a695b3e7-372d-4efe-8833-4069465e7b52",
   "metadata": {},
   "outputs": [
    {
     "data": {
      "text/plain": [
       "(0.005246673456808504, 0.9958137794593356)"
      ]
     },
     "execution_count": 52,
     "metadata": {},
     "output_type": "execute_result"
    }
   ],
   "source": [
    "ztest(data_1, data_2, value=0)"
   ]
  },
  {
   "cell_type": "code",
   "execution_count": 49,
   "id": "3ab38a3a-cf8d-4b93-ad1a-e7b6b558309f",
   "metadata": {},
   "outputs": [
    {
     "data": {
      "text/plain": [
       "(0.005246673456808504, 0.9958137794593356)"
      ]
     },
     "execution_count": 49,
     "metadata": {},
     "output_type": "execute_result"
    }
   ],
   "source": [
    "ztest(data_1, data_2, alternative='two-sided')"
   ]
  },
  {
   "cell_type": "markdown",
   "id": "b3c221b4-e166-4ac5-88c4-08bdf4eae330",
   "metadata": {},
   "source": [
    "Отже, статистика для двох вибірок z-критерію становить 0,0052, відповідне р-value дорівнює 0,9958. \n",
    "З розрахунку видно, що значення р-value >0,05, тому ми не можемо відхилити нульову гіпотезу і наразі відсутня статистично значуща різниця у розмірі середнього чеку між липнем та серпнем 2022 року. Висновок статистичного тесту збігається з спостереженням середніх значень чеків в липні та серпні 2022 року, їх значення практично однакове."
   ]
  }
 ],
 "metadata": {
  "colab": {
   "provenance": []
  },
  "hide_input": false,
  "kernelspec": {
   "display_name": "Python 3 (ipykernel)",
   "language": "python",
   "name": "python3"
  },
  "language_info": {
   "codemirror_mode": {
    "name": "ipython",
    "version": 3
   },
   "file_extension": ".py",
   "mimetype": "text/x-python",
   "name": "python",
   "nbconvert_exporter": "python",
   "pygments_lexer": "ipython3",
   "version": "3.12.4"
  },
  "toc": {
   "base_numbering": 1,
   "nav_menu": {},
   "number_sections": true,
   "sideBar": true,
   "skip_h1_title": false,
   "title_cell": "Table of Contents",
   "title_sidebar": "Contents",
   "toc_cell": false,
   "toc_position": {},
   "toc_section_display": true,
   "toc_window_display": false
  },
  "varInspector": {
   "cols": {
    "lenName": 16,
    "lenType": 16,
    "lenVar": 40
   },
   "kernels_config": {
    "python": {
     "delete_cmd_postfix": "",
     "delete_cmd_prefix": "del ",
     "library": "var_list.py",
     "varRefreshCmd": "print(var_dic_list())"
    },
    "r": {
     "delete_cmd_postfix": ") ",
     "delete_cmd_prefix": "rm(",
     "library": "var_list.r",
     "varRefreshCmd": "cat(var_dic_list()) "
    }
   },
   "types_to_exclude": [
    "module",
    "function",
    "builtin_function_or_method",
    "instance",
    "_Feature"
   ],
   "window_display": false
  }
 },
 "nbformat": 4,
 "nbformat_minor": 5
}
